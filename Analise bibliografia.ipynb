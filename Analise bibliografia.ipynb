{
 "cells": [
  {
   "cell_type": "code",
   "execution_count": 1,
   "id": "3b353d5c",
   "metadata": {},
   "outputs": [],
   "source": [
    "%matplotlib inline\n",
    "import pandas"
   ]
  },
  {
   "cell_type": "code",
   "execution_count": 2,
   "id": "e5759241",
   "metadata": {},
   "outputs": [],
   "source": [
    "sheet_id = \"1o_ZBHoXGTnlDY1riAVMxqRVUgVoEDENEPyNWO6L3IaA\"\n",
    "sheet_name = \"biblio\"\n",
    "url = f\"https://docs.google.com/spreadsheets/d/{sheet_id}/gviz/tq?tqx=out:csv&sheet={sheet_name}\""
   ]
  },
  {
   "cell_type": "code",
   "execution_count": 3,
   "id": "b7e4317f",
   "metadata": {},
   "outputs": [],
   "source": [
    "df = pandas.read_csv(url)"
   ]
  },
  {
   "cell_type": "code",
   "execution_count": 14,
   "id": "71f33c96",
   "metadata": {},
   "outputs": [],
   "source": [
    "df.dropna(axis=1, how='all', inplace=True)"
   ]
  },
  {
   "cell_type": "code",
   "execution_count": 15,
   "id": "8ebe26d4",
   "metadata": {
    "scrolled": false
   },
   "outputs": [
    {
     "data": {
      "text/html": [
       "<div>\n",
       "<style scoped>\n",
       "    .dataframe tbody tr th:only-of-type {\n",
       "        vertical-align: middle;\n",
       "    }\n",
       "\n",
       "    .dataframe tbody tr th {\n",
       "        vertical-align: top;\n",
       "    }\n",
       "\n",
       "    .dataframe thead th {\n",
       "        text-align: right;\n",
       "    }\n",
       "</style>\n",
       "<table border=\"1\" class=\"dataframe\">\n",
       "  <thead>\n",
       "    <tr style=\"text-align: right;\">\n",
       "      <th></th>\n",
       "      <th>livro</th>\n",
       "      <th>titulo</th>\n",
       "      <th>autores</th>\n",
       "      <th>ISBN-13</th>\n",
       "      <th>ISBN-10</th>\n",
       "      <th>Paper</th>\n",
       "      <th>ISBN aproximado</th>\n",
       "      <th>versão brasileira</th>\n",
       "      <th>ano publicacao</th>\n",
       "      <th>edição</th>\n",
       "      <th>universidade</th>\n",
       "      <th>curso</th>\n",
       "      <th>periodo</th>\n",
       "      <th>complementar</th>\n",
       "      <th>disciplina</th>\n",
       "    </tr>\n",
       "  </thead>\n",
       "  <tbody>\n",
       "    <tr>\n",
       "      <th>0</th>\n",
       "      <td>Elmasri, R. Navathe. S.B. Sistemas de Bancos d...</td>\n",
       "      <td>sistemas de bancos de dados</td>\n",
       "      <td>ramez elmasri, shamkant b. navathe</td>\n",
       "      <td>9.788589e+12</td>\n",
       "      <td>8.588639e+09</td>\n",
       "      <td>NaN</td>\n",
       "      <td>Não</td>\n",
       "      <td>Sim</td>\n",
       "      <td>2005.0</td>\n",
       "      <td>5.0</td>\n",
       "      <td>unirio</td>\n",
       "      <td>Bacharelado em Sistemas de Informação</td>\n",
       "      <td>NaN</td>\n",
       "      <td>NaN</td>\n",
       "      <td>TIN0120 - Bancos de Dados 1</td>\n",
       "    </tr>\n",
       "    <tr>\n",
       "      <th>1</th>\n",
       "      <td>Elmasri, R. Navathe. S.B. Sistemas de Bancos d...</td>\n",
       "      <td>sistemas de bancos de dados</td>\n",
       "      <td>ramez elmasri, shamkant b. navathe</td>\n",
       "      <td>9.788579e+12</td>\n",
       "      <td>8.579361e+09</td>\n",
       "      <td>NaN</td>\n",
       "      <td>Não</td>\n",
       "      <td>Sim</td>\n",
       "      <td>2010.0</td>\n",
       "      <td>6.0</td>\n",
       "      <td>unirio</td>\n",
       "      <td>Bacharelado em Sistemas de Informação</td>\n",
       "      <td>NaN</td>\n",
       "      <td>NaN</td>\n",
       "      <td>TIN0120 - Bancos de Dados 1</td>\n",
       "    </tr>\n",
       "    <tr>\n",
       "      <th>2</th>\n",
       "      <td>Heuser, C.A. Projeto de Bancos de Dados. Sagra...</td>\n",
       "      <td>projeto de banco de dados</td>\n",
       "      <td>carlos alberto heuser</td>\n",
       "      <td>9.788578e+12</td>\n",
       "      <td>8.577804e+09</td>\n",
       "      <td>NaN</td>\n",
       "      <td>Não</td>\n",
       "      <td>Sim</td>\n",
       "      <td>2008.0</td>\n",
       "      <td>NaN</td>\n",
       "      <td>unirio</td>\n",
       "      <td>Bacharelado em Sistemas de Informação</td>\n",
       "      <td>NaN</td>\n",
       "      <td>NaN</td>\n",
       "      <td>TIN0120 - Bancos de Dados 1</td>\n",
       "    </tr>\n",
       "    <tr>\n",
       "      <th>3</th>\n",
       "      <td>Date, C.J. Introdução a Sistemas de Bancos de ...</td>\n",
       "      <td>introdução a sistemas de bancos de dados</td>\n",
       "      <td>date, c. j.</td>\n",
       "      <td>9.788535e+12</td>\n",
       "      <td>8.535206e+09</td>\n",
       "      <td>NaN</td>\n",
       "      <td>Não</td>\n",
       "      <td>Sim</td>\n",
       "      <td>2000.0</td>\n",
       "      <td>NaN</td>\n",
       "      <td>unirio</td>\n",
       "      <td>Bacharelado em Sistemas de Informação</td>\n",
       "      <td>NaN</td>\n",
       "      <td>NaN</td>\n",
       "      <td>TIN0120 - Bancos de Dados 1</td>\n",
       "    </tr>\n",
       "    <tr>\n",
       "      <th>4</th>\n",
       "      <td>Date, C.J. Introdução a Sistemas de Bancos de ...</td>\n",
       "      <td>introdução a sistemas de bancos de dados</td>\n",
       "      <td>date, c. j.</td>\n",
       "      <td>9.788535e+12</td>\n",
       "      <td>8.535206e+09</td>\n",
       "      <td>NaN</td>\n",
       "      <td>Não</td>\n",
       "      <td>Sim</td>\n",
       "      <td>2000.0</td>\n",
       "      <td>NaN</td>\n",
       "      <td>unirio</td>\n",
       "      <td>Bacharelado em Sistemas de Informação</td>\n",
       "      <td>NaN</td>\n",
       "      <td>NaN</td>\n",
       "      <td>TIN0169 - Bancos de Dados II</td>\n",
       "    </tr>\n",
       "  </tbody>\n",
       "</table>\n",
       "</div>"
      ],
      "text/plain": [
       "                                               livro  \\\n",
       "0  Elmasri, R. Navathe. S.B. Sistemas de Bancos d...   \n",
       "1  Elmasri, R. Navathe. S.B. Sistemas de Bancos d...   \n",
       "2  Heuser, C.A. Projeto de Bancos de Dados. Sagra...   \n",
       "3  Date, C.J. Introdução a Sistemas de Bancos de ...   \n",
       "4  Date, C.J. Introdução a Sistemas de Bancos de ...   \n",
       "\n",
       "                                     titulo  \\\n",
       "0               sistemas de bancos de dados   \n",
       "1               sistemas de bancos de dados   \n",
       "2                 projeto de banco de dados   \n",
       "3  introdução a sistemas de bancos de dados   \n",
       "4  introdução a sistemas de bancos de dados   \n",
       "\n",
       "                              autores       ISBN-13       ISBN-10 Paper  \\\n",
       "0  ramez elmasri, shamkant b. navathe  9.788589e+12  8.588639e+09   NaN   \n",
       "1  ramez elmasri, shamkant b. navathe  9.788579e+12  8.579361e+09   NaN   \n",
       "2               carlos alberto heuser  9.788578e+12  8.577804e+09   NaN   \n",
       "3                         date, c. j.  9.788535e+12  8.535206e+09   NaN   \n",
       "4                         date, c. j.  9.788535e+12  8.535206e+09   NaN   \n",
       "\n",
       "  ISBN aproximado versão brasileira  ano publicacao  edição universidade  \\\n",
       "0             Não               Sim          2005.0     5.0       unirio   \n",
       "1             Não               Sim          2010.0     6.0       unirio   \n",
       "2             Não               Sim          2008.0     NaN       unirio   \n",
       "3             Não               Sim          2000.0     NaN       unirio   \n",
       "4             Não               Sim          2000.0     NaN       unirio   \n",
       "\n",
       "                                   curso  periodo complementar  \\\n",
       "0  Bacharelado em Sistemas de Informação      NaN          NaN   \n",
       "1  Bacharelado em Sistemas de Informação      NaN          NaN   \n",
       "2  Bacharelado em Sistemas de Informação      NaN          NaN   \n",
       "3  Bacharelado em Sistemas de Informação      NaN          NaN   \n",
       "4  Bacharelado em Sistemas de Informação      NaN          NaN   \n",
       "\n",
       "                     disciplina  \n",
       "0   TIN0120 - Bancos de Dados 1  \n",
       "1   TIN0120 - Bancos de Dados 1  \n",
       "2   TIN0120 - Bancos de Dados 1  \n",
       "3   TIN0120 - Bancos de Dados 1  \n",
       "4  TIN0169 - Bancos de Dados II  "
      ]
     },
     "execution_count": 15,
     "metadata": {},
     "output_type": "execute_result"
    }
   ],
   "source": [
    "df.head()"
   ]
  },
  {
   "cell_type": "code",
   "execution_count": 16,
   "id": "8bedf6cf",
   "metadata": {},
   "outputs": [],
   "source": [
    "df.autores = df.autores.str.lower()"
   ]
  },
  {
   "cell_type": "code",
   "execution_count": 17,
   "id": "dc98876a",
   "metadata": {},
   "outputs": [],
   "source": [
    "df.titulo = df.titulo.str.lower()"
   ]
  },
  {
   "cell_type": "code",
   "execution_count": 7,
   "id": "c0049002",
   "metadata": {},
   "outputs": [
    {
     "data": {
      "text/plain": [
       "<AxesSubplot:>"
      ]
     },
     "execution_count": 7,
     "metadata": {},
     "output_type": "execute_result"
    },
    {
     "data": {
      "image/png": "[encoded data removed]",
      "text/plain": [
       "<Figure size 640x480 with 1 Axes>"
      ]
     },
     "metadata": {},
     "output_type": "display_data"
    }
   ],
   "source": [
    "# bibliografias por ano\n",
    "\n",
    "df[\"ano publicacao\"].hist(bins=30)"
   ]
  },
  {
   "cell_type": "code",
   "execution_count": 8,
   "id": "a3b032c5",
   "metadata": {},
   "outputs": [
    {
     "data": {
      "text/plain": [
       "1989.0     4\n",
       "1990.0     1\n",
       "1991.0     5\n",
       "1992.0     5\n",
       "1994.0     1\n",
       "1996.0     4\n",
       "1997.0     9\n",
       "1998.0    13\n",
       "2000.0     7\n",
       "2001.0    21\n",
       "2002.0     7\n",
       "2003.0    35\n",
       "2004.0    28\n",
       "2005.0    25\n",
       "2006.0    15\n",
       "2007.0     7\n",
       "2008.0    23\n",
       "2009.0    13\n",
       "2010.0    24\n",
       "2011.0     9\n",
       "2012.0     2\n",
       "2013.0    26\n",
       "2014.0     3\n",
       "2015.0     8\n",
       "2016.0     7\n",
       "2017.0    17\n",
       "2018.0     4\n",
       "2019.0     6\n",
       "2020.0     4\n",
       "2021.0     2\n",
       "2022.0     1\n",
       "Name: ano publicacao, dtype: int64"
      ]
     },
     "execution_count": 8,
     "metadata": {},
     "output_type": "execute_result"
    }
   ],
   "source": [
    "df[\"ano publicacao\"].value_counts().sort_index()"
   ]
  },
  {
   "cell_type": "code",
   "execution_count": 9,
   "id": "b8729874",
   "metadata": {},
   "outputs": [
    {
     "data": {
      "text/plain": [
       "ramez elmasri, shamkant b. navathe                                                      28\n",
       "korth, h. f.; silberschatz, a.; sudarshan, s.                                           26\n",
       "date, c. j.                                                                             21\n",
       "carlos alberto heuser                                                                   20\n",
       "johannes gehrke, raghu ramakrishnan                                                     18\n",
       "                                                                                        ..\n",
       "abadi, daniel; boncz, peter; harizopoulos, stavros                                       1\n",
       "babu; shivnath; herodotou; herodotos                                                     1\n",
       "faerber; frans; kemper; alfons; larson; per-ake; levandoski; justin; neumann; thomas     1\n",
       "hellerstein, joseph m.; stonebraker, michael; hamilton, james                            1\n",
       "brendan burns                                                                            1\n",
       "Name: autores, Length: 122, dtype: int64"
      ]
     },
     "execution_count": 9,
     "metadata": {},
     "output_type": "execute_result"
    }
   ],
   "source": [
    "# autores mais usados\n",
    "df.autores.value_counts()"
   ]
  },
  {
   "cell_type": "code",
   "execution_count": 10,
   "id": "e59785ed",
   "metadata": {},
   "outputs": [
    {
     "data": {
      "text/plain": [
       "sistemas de bancos de dados                                                   53\n",
       "introdução a sistemas de bancos de dados                                      21\n",
       "projeto de banco de dados                                                     20\n",
       "sistemas de gerenciamento de banco de dados                                   18\n",
       "database systems: the complete book                                           12\n",
       "                                                                              ..\n",
       "massively parallel databases and mapreduce systems                             1\n",
       "main memory database systems                                                   1\n",
       "architecture of a database system (foundations and trends(r) in databases)     1\n",
       "principios de sistemas de bancos de dados distribuidos                         1\n",
       "kubernetes basico - mergulhe no futuro da infraestrutura                       1\n",
       "Name: titulo, Length: 140, dtype: int64"
      ]
     },
     "execution_count": 10,
     "metadata": {},
     "output_type": "execute_result"
    }
   ],
   "source": [
    "df.titulo.value_counts()"
   ]
  },
  {
   "cell_type": "code",
   "execution_count": 11,
   "id": "55fb9d46",
   "metadata": {},
   "outputs": [
    {
     "data": {
      "text/html": [
       "<div>\n",
       "<style scoped>\n",
       "    .dataframe tbody tr th:only-of-type {\n",
       "        vertical-align: middle;\n",
       "    }\n",
       "\n",
       "    .dataframe tbody tr th {\n",
       "        vertical-align: top;\n",
       "    }\n",
       "\n",
       "    .dataframe thead tr th {\n",
       "        text-align: left;\n",
       "    }\n",
       "\n",
       "    .dataframe thead tr:last-of-type th {\n",
       "        text-align: right;\n",
       "    }\n",
       "</style>\n",
       "<table border=\"1\" class=\"dataframe\">\n",
       "  <thead>\n",
       "    <tr>\n",
       "      <th></th>\n",
       "      <th>titulo</th>\n",
       "    </tr>\n",
       "    <tr>\n",
       "      <th></th>\n",
       "      <th>count</th>\n",
       "    </tr>\n",
       "    <tr>\n",
       "      <th>autores</th>\n",
       "      <th></th>\n",
       "    </tr>\n",
       "  </thead>\n",
       "  <tbody>\n",
       "    <tr>\n",
       "      <th>ramez elmasri, shamkant b. navathe</th>\n",
       "      <td>28</td>\n",
       "    </tr>\n",
       "    <tr>\n",
       "      <th>korth, h. f.; silberschatz, a.; sudarshan, s.</th>\n",
       "      <td>26</td>\n",
       "    </tr>\n",
       "    <tr>\n",
       "      <th>date, c. j.</th>\n",
       "      <td>21</td>\n",
       "    </tr>\n",
       "    <tr>\n",
       "      <th>carlos alberto heuser</th>\n",
       "      <td>20</td>\n",
       "    </tr>\n",
       "    <tr>\n",
       "      <th>johannes gehrke, raghu ramakrishnan</th>\n",
       "      <td>18</td>\n",
       "    </tr>\n",
       "    <tr>\n",
       "      <th>...</th>\n",
       "      <td>...</td>\n",
       "    </tr>\n",
       "    <tr>\n",
       "      <th>géron, aurélien</th>\n",
       "      <td>1</td>\n",
       "    </tr>\n",
       "    <tr>\n",
       "      <th>goodfellow, i.; bengio, y.; courville, a.</th>\n",
       "      <td>1</td>\n",
       "    </tr>\n",
       "    <tr>\n",
       "      <th>george f. luger</th>\n",
       "      <td>1</td>\n",
       "    </tr>\n",
       "    <tr>\n",
       "      <th>faloutsos, christos</th>\n",
       "      <td>1</td>\n",
       "    </tr>\n",
       "    <tr>\n",
       "      <th>zumel; mount</th>\n",
       "      <td>1</td>\n",
       "    </tr>\n",
       "  </tbody>\n",
       "</table>\n",
       "<p>122 rows × 1 columns</p>\n",
       "</div>"
      ],
      "text/plain": [
       "                                              titulo\n",
       "                                               count\n",
       "autores                                             \n",
       "ramez elmasri, shamkant b. navathe                28\n",
       "korth, h. f.; silberschatz, a.; sudarshan, s.     26\n",
       "date, c. j.                                       21\n",
       "carlos alberto heuser                             20\n",
       "johannes gehrke, raghu ramakrishnan               18\n",
       "...                                              ...\n",
       "géron, aurélien                                    1\n",
       "goodfellow, i.; bengio, y.; courville, a.          1\n",
       "george f. luger                                    1\n",
       "faloutsos, christos                                1\n",
       "zumel; mount                                       1\n",
       "\n",
       "[122 rows x 1 columns]"
      ]
     },
     "execution_count": 11,
     "metadata": {},
     "output_type": "execute_result"
    }
   ],
   "source": [
    "df.groupby(\"autores\").agg({\"titulo\": [\"count\"]}).sort_values((\"titulo\", \"count\"), ascending=False)"
   ]
  },
  {
   "cell_type": "code",
   "execution_count": 12,
   "id": "a647f261",
   "metadata": {},
   "outputs": [
    {
     "data": {
      "text/plain": [
       "Não    183\n",
       "Sim    152\n",
       "Name: versão brasileira, dtype: int64"
      ]
     },
     "execution_count": 12,
     "metadata": {},
     "output_type": "execute_result"
    }
   ],
   "source": [
    "df[\"versão brasileira\"].value_counts()"
   ]
  },
  {
   "cell_type": "code",
   "execution_count": 18,
   "id": "a06aeb0e",
   "metadata": {},
   "outputs": [],
   "source": [
    "df_by_universidade = df.groupby(\"universidade\")"
   ]
  },
  {
   "cell_type": "code",
   "execution_count": 19,
   "id": "57bbe215",
   "metadata": {},
   "outputs": [
    {
     "data": {
      "text/html": [
       "<div>\n",
       "<style scoped>\n",
       "    .dataframe tbody tr th:only-of-type {\n",
       "        vertical-align: middle;\n",
       "    }\n",
       "\n",
       "    .dataframe tbody tr th {\n",
       "        vertical-align: top;\n",
       "    }\n",
       "\n",
       "    .dataframe thead tr th {\n",
       "        text-align: left;\n",
       "    }\n",
       "\n",
       "    .dataframe thead tr:last-of-type th {\n",
       "        text-align: right;\n",
       "    }\n",
       "</style>\n",
       "<table border=\"1\" class=\"dataframe\">\n",
       "  <thead>\n",
       "    <tr>\n",
       "      <th></th>\n",
       "      <th colspan=\"2\" halign=\"left\">ano publicacao</th>\n",
       "    </tr>\n",
       "    <tr>\n",
       "      <th></th>\n",
       "      <th>min</th>\n",
       "      <th>max</th>\n",
       "    </tr>\n",
       "    <tr>\n",
       "      <th>universidade</th>\n",
       "      <th></th>\n",
       "      <th></th>\n",
       "    </tr>\n",
       "  </thead>\n",
       "  <tbody>\n",
       "    <tr>\n",
       "      <th>UFES</th>\n",
       "      <td>1998.0</td>\n",
       "      <td>2017.0</td>\n",
       "    </tr>\n",
       "    <tr>\n",
       "      <th>UFES/São Mateus</th>\n",
       "      <td>1991.0</td>\n",
       "      <td>2019.0</td>\n",
       "    </tr>\n",
       "    <tr>\n",
       "      <th>puc/rio</th>\n",
       "      <td>1996.0</td>\n",
       "      <td>2020.0</td>\n",
       "    </tr>\n",
       "    <tr>\n",
       "      <th>ufam</th>\n",
       "      <td>2003.0</td>\n",
       "      <td>2015.0</td>\n",
       "    </tr>\n",
       "    <tr>\n",
       "      <th>ufpr</th>\n",
       "      <td>1990.0</td>\n",
       "      <td>2017.0</td>\n",
       "    </tr>\n",
       "    <tr>\n",
       "      <th>unicamp</th>\n",
       "      <td>2003.0</td>\n",
       "      <td>2010.0</td>\n",
       "    </tr>\n",
       "    <tr>\n",
       "      <th>unirio</th>\n",
       "      <td>1998.0</td>\n",
       "      <td>2010.0</td>\n",
       "    </tr>\n",
       "    <tr>\n",
       "      <th>usp/sc</th>\n",
       "      <td>1989.0</td>\n",
       "      <td>2022.0</td>\n",
       "    </tr>\n",
       "    <tr>\n",
       "      <th>usp/sp</th>\n",
       "      <td>2003.0</td>\n",
       "      <td>2019.0</td>\n",
       "    </tr>\n",
       "  </tbody>\n",
       "</table>\n",
       "</div>"
      ],
      "text/plain": [
       "                ano publicacao        \n",
       "                           min     max\n",
       "universidade                          \n",
       "UFES                    1998.0  2017.0\n",
       "UFES/São Mateus         1991.0  2019.0\n",
       "puc/rio                 1996.0  2020.0\n",
       "ufam                    2003.0  2015.0\n",
       "ufpr                    1990.0  2017.0\n",
       "unicamp                 2003.0  2010.0\n",
       "unirio                  1998.0  2010.0\n",
       "usp/sc                  1989.0  2022.0\n",
       "usp/sp                  2003.0  2019.0"
      ]
     },
     "execution_count": 19,
     "metadata": {},
     "output_type": "execute_result"
    }
   ],
   "source": [
    "# bibliografia mais velha e mais nova por universidade\n",
    "df_by_universidade.agg({\"ano publicacao\": [\"min\", \"max\"]})"
   ]
  },
  {
   "cell_type": "code",
   "execution_count": 26,
   "id": "1d456ec6",
   "metadata": {},
   "outputs": [
    {
     "data": {
      "text/plain": [
       "array([[<AxesSubplot:title={'center':'UFES'}>,\n",
       "        <AxesSubplot:title={'center':'UFES/São Mateus'}>,\n",
       "        <AxesSubplot:title={'center':'puc/rio'}>],\n",
       "       [<AxesSubplot:title={'center':'ufam'}>,\n",
       "        <AxesSubplot:title={'center':'ufpr'}>,\n",
       "        <AxesSubplot:title={'center':'unicamp'}>],\n",
       "       [<AxesSubplot:title={'center':'unirio'}>,\n",
       "        <AxesSubplot:title={'center':'usp/sc'}>,\n",
       "        <AxesSubplot:title={'center':'usp/sp'}>]], dtype=object)"
      ]
     },
     "execution_count": 26,
     "metadata": {},
     "output_type": "execute_result"
    },
    {
     "data": {
      "image/png": "[encoded data removed]",
      "text/plain": [
       "<Figure size 2000x2000 with 9 Axes>"
      ]
     },
     "metadata": {},
     "output_type": "display_data"
    }
   ],
   "source": [
    "# Histograma ano bibliografia por universidade\n",
    "df[\"ano publicacao\"].hist(by=df.universidade, bins=30, figsize=(20,20))"
   ]
  },
  {
   "cell_type": "code",
   "execution_count": null,
   "id": "90cff925",
   "metadata": {},
   "outputs": [],
   "source": []
  }
 ],
 "metadata": {
  "kernelspec": {
   "display_name": "Python 3 (ipykernel)",
   "language": "python",
   "name": "python3"
  },
  "language_info": {
   "codemirror_mode": {
    "name": "ipython",
    "version": 3
   },
   "file_extension": ".py",
   "mimetype": "text/x-python",
   "name": "python",
   "nbconvert_exporter": "python",
   "pygments_lexer": "ipython3",
   "version": "3.10.4"
  }
 },
 "nbformat": 4,
 "nbformat_minor": 5
}
